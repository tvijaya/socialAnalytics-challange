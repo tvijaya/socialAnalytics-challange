{
 "cells": [
  {
   "cell_type": "code",
   "execution_count": 1,
   "metadata": {
    "collapsed": true
   },
   "outputs": [],
   "source": [
    "# Dependencies\n",
    "import tweepy\n",
    "import numpy as np\n",
    "import pandas as pd\n",
    "import matplotlib.pyplot as plt\n",
    "import time\n",
    "import yaml\n",
    "\n",
    "# Import and Initialize Sentiment Analyzer\n",
    "from vaderSentiment.vaderSentiment import SentimentIntensityAnalyzer\n",
    "analyzer = SentimentIntensityAnalyzer()"
   ]
  },
  {
   "cell_type": "code",
   "execution_count": 2,
   "metadata": {},
   "outputs": [],
   "source": [
    "# Twitter API Keys\n",
    "TWITTER_CONFIG_FILE = 'account1.yaml'\n",
    "\n",
    "with open(TWITTER_CONFIG_FILE, 'r') as config_file:\n",
    "    config = yaml.load(config_file)\n",
    "\n",
    "consumer_key = config['twitter']['consumer_key']\n",
    "consumer_secret = config['twitter']['consumer_secret']\n",
    "access_token = config['twitter']['access_token']\n",
    "access_token_secret = config['twitter']['access_token_secret']"
   ]
  },
  {
   "cell_type": "code",
   "execution_count": 3,
   "metadata": {
    "collapsed": true
   },
   "outputs": [],
   "source": [
    "# Setup Tweepy API Authentication\n",
    "auth = tweepy.OAuthHandler(consumer_key, consumer_secret)\n",
    "auth.set_access_token(access_token, access_token_secret)\n",
    "api = tweepy.API(auth, parser=tweepy.parsers.JSONParser())"
   ]
  },
  {
   "cell_type": "code",
   "execution_count": 4,
   "metadata": {
    "collapsed": true
   },
   "outputs": [],
   "source": [
    "# Target Term\n",
    "my_username = \"@VijTest3\"\n",
    "conversation_partner = \"@VijayaTest2\""
   ]
  },
  {
   "cell_type": "code",
   "execution_count": 5,
   "metadata": {
    "collapsed": true
   },
   "outputs": [],
   "source": [
    "# Response Lines\n",
    "response_lines = [\n",
    "    \"%s Analyze: %s\" % (conversation_partner, \"@sundarpichai\"),\n",
    "    \"%s Analyze: %s\" % (conversation_partner, \"@tim_cook\"),\n",
    "    \"%s Analyze: %s\" % (conversation_partner, \"@satyanadella\")\n",
    "]"
   ]
  },
  {
   "cell_type": "code",
   "execution_count": 6,
   "metadata": {},
   "outputs": [
    {
     "name": "stdout",
     "output_type": "stream",
     "text": [
      "Tweeted Successfully!\n",
      "Tweeted Successfully!\n",
      "Tweeted Successfully!\n"
     ]
    }
   ],
   "source": [
    "# Create function to tweet\n",
    "def create_tweet(line_number):\n",
    "    try:\n",
    "        api.update_status(response_lines[line_number])\n",
    "        print(\"Tweeted Successfully!\")\n",
    "        \n",
    "    except tweepy.TweepError as e:\n",
    "        print(\"Exception :\" +e.reason)\n",
    "    \n",
    "# Set timer to run every minute\n",
    "counter = 0\n",
    "\n",
    "while True:\n",
    "    create_tweet(counter)\n",
    "    time.sleep(5*60)\n",
    "    counter = counter + 1\n",
    "\n",
    "    if counter == 3:\n",
    "        break"
   ]
  },
  {
   "cell_type": "code",
   "execution_count": null,
   "metadata": {
    "collapsed": true
   },
   "outputs": [],
   "source": []
  }
 ],
 "metadata": {
  "kernelspec": {
   "display_name": "Python 3",
   "language": "python",
   "name": "python3"
  },
  "language_info": {
   "codemirror_mode": {
    "name": "ipython",
    "version": 3
   },
   "file_extension": ".py",
   "mimetype": "text/x-python",
   "name": "python",
   "nbconvert_exporter": "python",
   "pygments_lexer": "ipython3",
   "version": "3.6.3"
  }
 },
 "nbformat": 4,
 "nbformat_minor": 2
}
